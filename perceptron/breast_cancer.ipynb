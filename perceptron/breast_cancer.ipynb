{
 "cells": [
  {
   "cell_type": "code",
   "execution_count": 3,
   "id": "ab29baaa-381b-4835-8ef3-a034e3c313d2",
   "metadata": {},
   "outputs": [
    {
     "name": "stdout",
     "output_type": "stream",
     "text": [
      "Erro: 0.5366772855142519\n",
      "Erro: 0.37258347978911044\n",
      "Erro: 0.37258347978911044\n",
      "Erro: 0.37258347978911044\n",
      "Erro: 0.37258347978911044\n",
      "Erro: 0.37258347978911044\n",
      "Erro: 0.37258347978911044\n",
      "Erro: 0.37258347978911044\n",
      "Erro: 0.37258347978911044\n",
      "Erro: 0.37258347978911044\n"
     ]
    },
    {
     "name": "stderr",
     "output_type": "stream",
     "text": [
      "/tmp/ipykernel_1442950/1234466347.py:5: RuntimeWarning: overflow encountered in exp\n",
      "  return 1 / (1 + np.exp(-soma))\n"
     ]
    }
   ],
   "source": [
    "import numpy as np\n",
    "from sklearn import datasets\n",
    "\n",
    "def sigmoid(soma):\n",
    "    return 1 / (1 + np.exp(-soma))\n",
    "\n",
    "def sigmoidDerivada(sig):\n",
    "    return sig * (1 - sig)\n",
    "\n",
    "base = datasets.load_breast_cancer()\n",
    "\n",
    "entradas = base.data\n",
    "valoresSaida = base.target\n",
    "saidas = np.empty([569,1], dtype=int)\n",
    "\n",
    "for i in range(569):\n",
    "    saidas[i] = valoresSaida[i]\n",
    "\n",
    "\n",
    "pesos0 = 2 * np.random.random((30,5)) - 1\n",
    "pesos1 = 2 * np.random.random((5,1)) - 1\n",
    "\n",
    "epocas = 10\n",
    "taxaAprendizagem = 0.3\n",
    "momento = 1\n",
    "for j in range(epocas):\n",
    "    camadaEntrada = entradas\n",
    "    somaSinapse0 = np.dot(camadaEntrada, pesos0)\n",
    "    camadaOculta = sigmoid(somaSinapse0)\n",
    "    somaSinapse1 = np.dot(camadaOculta, pesos1)\n",
    "    camadaSaida = sigmoid(somaSinapse1)\n",
    "    \n",
    "    erroCamadaSaida = saidas - camadaSaida\n",
    "    \n",
    "    mediaAbsoluta = np.mean(np.abs(erroCamadaSaida))\n",
    "    \n",
    "    print(f'Erro: {str(mediaAbsoluta)}')\n",
    "    \n",
    "    derivadaSaida = sigmoidDerivada(camadaSaida)\n",
    "    deltaSaida = erroCamadaSaida * derivadaSaida\n",
    "    \n",
    "    # Matriz transposta\n",
    "    pesos1Transposta = pesos1.T\n",
    "    \n",
    "    deltaSaidaXpeso = deltaSaida.dot(pesos1Transposta)\n",
    "    deltaCamadaOculta = deltaSaidaXpeso * sigmoidDerivada(camadaOculta)\n",
    "    \n",
    "    # Matriz Transposta\n",
    "    camadaOcultaTransposta = camadaOculta.T\n",
    "    \n",
    "    pesosNovo1 = camadaOcultaTransposta.dot(deltaSaida)\n",
    "    pesos1 = (pesos1 * momento) + (pesosNovo1 * taxaAprendizagem)\n",
    "    \n",
    "    # Matriz Transposta\n",
    "    camadaEntradaTransposta = camadaEntrada.T\n",
    "    \n",
    "    pesosNovo0 = camadaEntradaTransposta.dot(deltaCamadaOculta)\n",
    "    pesos0 = (pesos0 * momento) + (pesosNovo0 * taxaAprendizagem)"
   ]
  },
  {
   "cell_type": "code",
   "execution_count": null,
   "id": "c148597e-d684-41b0-a3f6-a57561f49eba",
   "metadata": {},
   "outputs": [],
   "source": []
  }
 ],
 "metadata": {
  "kernelspec": {
   "display_name": "Python 3 (ipykernel)",
   "language": "python",
   "name": "python3"
  },
  "language_info": {
   "codemirror_mode": {
    "name": "ipython",
    "version": 3
   },
   "file_extension": ".py",
   "mimetype": "text/x-python",
   "name": "python",
   "nbconvert_exporter": "python",
   "pygments_lexer": "ipython3",
   "version": "3.12.3"
  }
 },
 "nbformat": 4,
 "nbformat_minor": 5
}
