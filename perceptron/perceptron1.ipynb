{
 "cells": [
  {
   "cell_type": "code",
   "execution_count": 9,
   "id": "1c28859f-b00d-4f7b-96d8-9f7f3ea0e9c3",
   "metadata": {},
   "outputs": [
    {
     "name": "stdout",
     "output_type": "stream",
     "text": [
      "0\n"
     ]
    }
   ],
   "source": [
    "entradas = [-1,7,5]\n",
    "pesos = [0.8, 0.1, 0]\n",
    "\n",
    "def soma(e, p):\n",
    "    soma = 0\n",
    "    for i in range(3):\n",
    "        soma += e[i] * p[i]\n",
    "    return soma\n",
    "\n",
    "s = soma(entradas, pesos)\n",
    "\n",
    "def stepFunction(soma):\n",
    "    return 1 if soma >= 1 else 0\n",
    "\n",
    "r = stepFunction(s)\n",
    "print(r)"
   ]
  },
  {
   "cell_type": "code",
   "execution_count": 13,
   "id": "dd089e91-bf08-494e-a657-dce3d9540917",
   "metadata": {},
   "outputs": [
    {
     "name": "stdout",
     "output_type": "stream",
     "text": [
      "0\n"
     ]
    }
   ],
   "source": [
    "import numpy as np\n",
    "\n",
    "entradas = np.array([-1,7,5])\n",
    "pesos = np.array([0.8, 0.1, 0])\n",
    "\n",
    "def soma(e, p):\n",
    "    return e.dot(p)\n",
    "\n",
    "s = soma(entradas, pesos)\n",
    "\n",
    "def stepFunction(soma):\n",
    "    return 1 if soma >= 1 else 0\n",
    "\n",
    "r = stepFunction(s)\n",
    "print(r)"
   ]
  },
  {
   "cell_type": "code",
   "execution_count": null,
   "id": "199dd6ef-7a98-476a-9dea-1671b340f0b9",
   "metadata": {},
   "outputs": [],
   "source": []
  }
 ],
 "metadata": {
  "kernelspec": {
   "display_name": "Python 3 (ipykernel)",
   "language": "python",
   "name": "python3"
  },
  "language_info": {
   "codemirror_mode": {
    "name": "ipython",
    "version": 3
   },
   "file_extension": ".py",
   "mimetype": "text/x-python",
   "name": "python",
   "nbconvert_exporter": "python",
   "pygments_lexer": "ipython3",
   "version": "3.12.3"
  }
 },
 "nbformat": 4,
 "nbformat_minor": 5
}
