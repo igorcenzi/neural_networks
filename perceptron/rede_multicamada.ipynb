{
 "cells": [
  {
   "cell_type": "code",
   "execution_count": 13,
   "id": "040e1604-2016-4052-9948-1a87f7ad105c",
   "metadata": {},
   "outputs": [
    {
     "data": {
      "text/plain": [
       "0.49880848923713045"
      ]
     },
     "execution_count": 13,
     "metadata": {},
     "output_type": "execute_result"
    }
   ],
   "source": [
    "import numpy as np\n",
    "\n",
    "def sigmoid(soma):\n",
    "    return 1 / (1 + np.exp(-soma))\n",
    "\n",
    "entradas = np.array([\n",
    "    [0,0],\n",
    "    [0,1],\n",
    "    [1,0],\n",
    "    [1,1]\n",
    "])\n",
    "\n",
    "saidas = np.array([\n",
    "    [0],\n",
    "    [1],\n",
    "    [1],\n",
    "    [0]\n",
    "])\n",
    "\n",
    "pesos0 = np.array([\n",
    "    [-0.424, -0.740, -0.961],\n",
    "    [0.358, -0.577, -0.469]\n",
    "])\n",
    "\n",
    "pesos1 = np.array([\n",
    "    [-0.017],\n",
    "    [-0.893],\n",
    "    [0.148]\n",
    "])\n",
    "\n",
    "epocas = 100\n",
    "\n",
    "# for j in range(epocas):\n",
    "camadaEntrada = entradas\n",
    "somaSinapse0 = np.dot(camadaEntrada, pesos0)\n",
    "camadaOculta = sigmoid(somaSinapse0)\n",
    "somaSinapse1 = np.dot(camadaOculta, pesos1)\n",
    "camadaSaida = sigmoid(somaSinapse1)\n",
    "\n",
    "erroCamadaSaida = saidas - camadaSaida\n",
    "\n",
    "mediaAbsoluta = np.mean(np.abs(erroCamadaSaida))\n",
    "mediaAbsoluta\n"
   ]
  },
  {
   "cell_type": "code",
   "execution_count": null,
   "id": "30104cb0-1f14-452b-853d-3d3bbac35db1",
   "metadata": {},
   "outputs": [],
   "source": []
  }
 ],
 "metadata": {
  "kernelspec": {
   "display_name": "Python 3 (ipykernel)",
   "language": "python",
   "name": "python3"
  },
  "language_info": {
   "codemirror_mode": {
    "name": "ipython",
    "version": 3
   },
   "file_extension": ".py",
   "mimetype": "text/x-python",
   "name": "python",
   "nbconvert_exporter": "python",
   "pygments_lexer": "ipython3",
   "version": "3.12.3"
  }
 },
 "nbformat": 4,
 "nbformat_minor": 5
}
